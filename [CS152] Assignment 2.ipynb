{
 "cells": [
  {
   "cell_type": "markdown",
   "metadata": {},
   "source": [
    "<center><h3>[CS152] HARNESSING ARTIFICIAL INTELLIGENCE ALGORITHMS</h3></center>\n",
    "<center><h3>Taha Bouhoun</h3></center>"
   ]
  },
  {
   "cell_type": "markdown",
   "metadata": {},
   "source": [
    "Before you turn in this assignment, make sure everything runs as expected. First, **restart the kernel** (in the menubar, select Kernel$\\rightarrow$Restart) and then run the test cells for each of the questions you have answered.  Note that a grade of 3 for the related LOs requires all tests in the \"Basic Functionality\" section to be passed.  The test cells pass if they execute with no errors (i.e. all the assertions are passed).\n",
    "\n",
    "Make sure you fill in any place that says `YOUR CODE HERE`.  Be sure to remove the `raise NotImplementedError()` statements as you implement your code - these are simply there as a reminder if you forget to add code where it's needed."
   ]
  },
  {
   "cell_type": "markdown",
   "metadata": {},
   "source": [
    "---"
   ]
  },
  {
   "cell_type": "markdown",
   "metadata": {
    "deletable": false,
    "editable": false,
    "nbgrader": {
     "cell_type": "markdown",
     "checksum": "69f9950e2c060ad5c3cc41d2c78fa636",
     "grade": false,
     "grade_id": "cell-36d7173cbd11c12a",
     "locked": true,
     "schema_version": 3,
     "solution": false,
     "task": false
    }
   },
   "source": [
    "<h1>CS152 Assignment 2: The DPLL Algorithm</h1>"
   ]
  },
  {
   "cell_type": "markdown",
   "metadata": {
    "deletable": false,
    "editable": false,
    "nbgrader": {
     "cell_type": "markdown",
     "checksum": "7947006e03ad4d3e0b5469c4ddf997f0",
     "grade": false,
     "grade_id": "cell-8ec27aa9925ffc86",
     "locked": true,
     "schema_version": 3,
     "solution": false,
     "task": false
    }
   },
   "source": [
    "<h1>Question 1</h1>\n",
    "\n",
    "Define your <code>Literal</code> class below.  Ensure that you define a <code>name</code> and <code>sign</code> attribute as required in the assignment description.  In addition, include any other attributes and member functions as needed. You will need to overload <code>__neg__()</code> to correctly handle negated literals.  You may need to overload <code>__eq__()</code> and <code>__hash__()</code> also."
   ]
  },
  {
   "cell_type": "code",
   "execution_count": 1,
   "metadata": {
    "deletable": false,
    "nbgrader": {
     "cell_type": "code",
     "checksum": "6f3dcb95b91cd3b0f526b89f339b3fe9",
     "grade": false,
     "grade_id": "cell-575ae3fbbe1ccbf6",
     "locked": false,
     "schema_version": 3,
     "solution": true,
     "task": false
    }
   },
   "outputs": [],
   "source": [
    "# Import any packages you need here\n",
    "# Also define any variables as needed\n",
    "\n",
    "from copy import*\n",
    "\n",
    "class Literal:\n",
    "    def __init__(self, name, sign=True):\n",
    "        self.name = name\n",
    "        self.sign = sign\n",
    "        \n",
    "    def __neg__(self):\n",
    "        return Literal(self.name, not self.sign)\n",
    "\n",
    "    def __eq__(self, other):\n",
    "        return self.name == other.name\n",
    "    \n",
    "    def __str__(self):\n",
    "        return \"-\" + self.name if not self.sign else self.name\n",
    "    \n",
    "    def __hash__(self):\n",
    "        return hash(self.name)"
   ]
  },
  {
   "cell_type": "markdown",
   "metadata": {
    "deletable": false,
    "editable": false,
    "nbgrader": {
     "cell_type": "markdown",
     "checksum": "7e6af6a3602f2712265baf6d3ce930f4",
     "grade": false,
     "grade_id": "cell-5df02e9e3f9998b4",
     "locked": true,
     "schema_version": 3,
     "solution": false,
     "task": false
    }
   },
   "source": [
    "<h1>Question 2</h1>\n",
    "Implement DPLL by filling in the stubs below.  Note that the various heuristics are not required to be implemented for basic functionality, but a template has been provided for you to do so if you attempt the extension questions"
   ]
  },
  {
   "cell_type": "markdown",
   "metadata": {},
   "source": [
    "## Pseudo code of DPLL algorithm:\n",
    "<code>Code by: Ruml Wheeler [YouTube]</code>\n",
    "\n",
    "DPLL($\\alpha$):\n",
    "- if $\\alpha$ has no clauses, return True\n",
    "- if $\\alpha$ has an empty clause, return False\n",
    "- if $\\alpha$ contains a unit clause, return **DPLL(SIMPLIFY($\\alpha$, leteral))**\n",
    "- v $\\leftarrow$ choose a variable in $\\alpha$\n",
    "- if **DPLL(SIMPLIFY($\\alpha$, v))** is True, return True\n",
    "    - else, return **DPLL(SIMPLIFY(α, $\\neg$v)**\n",
    "\n",
    "\n",
    "\n",
    "SIMPLIFY($\\alpha$, literal):\n",
    "- remove clauses in $\\alpha$ where literal is positive\n",
    "- remove $\\neg$literal form clauses where it appears\n",
    "- return new $\\alpha$"
   ]
  },
  {
   "cell_type": "code",
   "execution_count": 2,
   "metadata": {
    "deletable": false,
    "nbgrader": {
     "cell_type": "code",
     "checksum": "0e67ceab3fce59552581995e4ad07d1f",
     "grade": false,
     "grade_id": "cell-2846b43cfaf88026",
     "locked": false,
     "schema_version": 3,
     "solution": true,
     "task": false
    }
   },
   "outputs": [],
   "source": [
    "# Define degree, pure symbol and unit clause heuristics here (optional).\n",
    "# Uncomment the lines below and add in your functions\n",
    "\n",
    "# def degree_heuristic(clauses, symbols, model):\n",
    "\"\"\"\n",
    "  S = degree_heuristic(clauses, symbols, model):\n",
    "      clauses: The KB with a list of clauses\n",
    "      symbols: A set of the current literals \n",
    "      (we are only interested in the literal, not the sign)\n",
    "      model: A dictionary giving the truth values assigned for the model\n",
    "      S: A literal object representing the unassigned \n",
    "          symbol that appears the most across all clauses (should be positive)\n",
    "\"\"\"\n",
    "\n",
    "# def find_pure_symbol(clauses, symbols, model):\n",
    "\"\"\"\n",
    "  P = find_pure_symbol(clauses, symbols, model):\n",
    "      clauses: The KB with a list of clauses\n",
    "      symbols: A set of the current literals \n",
    "      (we are only interested in the literal, not the sign)\n",
    "      model: A dictionary giving the truth values assigned for the model\n",
    "      P: A pure symbol (currently unassigned in model)\n",
    "\"\"\"\n",
    "\n",
    "# def find_unit_clause(clauses, symbols, model):\n",
    "\"\"\"\n",
    "  U = find_unit_clause(clauses, symbols, model):\n",
    "      clauses: The KB with a list of clauses\n",
    "      symbols: A set of the current literals \n",
    "      (we are only interested in the literal, not the sign)\n",
    "      model: A dictionary giving the truth values assigned for the model\n",
    "      U:  A unit clause (currently unassigned in model)\n",
    "\"\"\"\n",
    "\n",
    "def DPLL_Satisfiable(KB):\n",
    "    \"\"\" \n",
    "    satisfiable, model = DPLL_Satisfiable(KB)\n",
    "    Takes in a KB and returns whether the KB is satisfiable, \n",
    "    and the model that makes it so\n",
    "        \n",
    "    KB: A knowledge base of clauses (CNF)\n",
    "    consisting of a list of sets of literals.  \n",
    "    A KB might look like [{A, B},{-A ,C ,D}]\n",
    "    \n",
    "    satisfiable: Returns True if the KB is satisfiable, False otherwise.\n",
    "    \n",
    "    Model: A dictionary that assigns a truth value \n",
    "    to each literal for the model that satisfies KB.\n",
    "    \"\"\"\n",
    "    \n",
    "    T = Literal('T')\n",
    "    # Create a set the literals\n",
    "    symbols = set()\n",
    "    # Adds all the literals in the KB to the set of symbols\n",
    "    [[symbols.add(literal) for literal in clause] for clause in KB]\n",
    "    \n",
    "    \n",
    "    def dpll(clauses, symbols, model):\n",
    "        # Iterates over the clauses of the KB\n",
    "        for clause in clauses:\n",
    "            count = 0\n",
    "            \n",
    "            for lit in clause:\n",
    "                if lit.name in model:\n",
    "                    count += 1\n",
    "                    if lit.sign == model[lit.name]:\n",
    "                        clause.add(T)\n",
    "                        break                        \n",
    "                    elif count == len(clause):\n",
    "                        return False, {}\n",
    "        \n",
    "        # If (at least) one literal from each clause is True,\n",
    "        # then the model is satisfiable.\n",
    "        if all([T in clause for clause in clauses]):\n",
    "            return True, model\n",
    "        \n",
    "        while symbols:\n",
    "            # Picks a literal from the symbol set\n",
    "            pick = symbols.pop()\n",
    "            model1, model2 = deepcopy(model), deepcopy(model)\n",
    "            # Associates the two possible truth value to the picked literal\n",
    "            model1[pick.name], model2[pick.name] = True, False\n",
    "            \n",
    "            # Recursive call to test satisfiability given the literal is True\n",
    "            satisfiable, Model = dpll(deepcopy(clauses),\n",
    "                                      deepcopy(symbols),\n",
    "                                      model1)\n",
    "            if satisfiable:\n",
    "                return satisfiable, Model\n",
    "            \n",
    "            # Recursive call to test satisfiability given the literal is Flase\n",
    "            satisfiable, Model = dpll(deepcopy(clauses),\n",
    "                                      deepcopy(symbols),\n",
    "                                      model2)            \n",
    "            if satisfiable:\n",
    "                return satisfiable, Model\n",
    "        \n",
    "        # If we exhausted the possible truth value combinations of \n",
    "        # all literals without having a model that returns True\n",
    "        # then we can deduce that the model is unsatisfiable.\n",
    "        return False, {}\n",
    "    \n",
    "    return dpll(KB, symbols, {})"
   ]
  },
  {
   "cell_type": "markdown",
   "metadata": {
    "deletable": false,
    "editable": false,
    "nbgrader": {
     "cell_type": "markdown",
     "checksum": "1a373b0f237fb333214a04ced058f50f",
     "grade": false,
     "grade_id": "cell-8c6248549aeaca88",
     "locked": true,
     "schema_version": 3,
     "solution": false,
     "task": false
    }
   },
   "source": [
    "<h1>Question 3</h1>\n",
    "\n",
    "Implement your KB from Russell & Norvig in CNF by filling in the sets inside the list <code>KB</code> below.  Ensure that your KB is in a list of set format as stated in the assignment instructions."
   ]
  },
  {
   "cell_type": "code",
   "execution_count": 3,
   "metadata": {
    "deletable": false,
    "nbgrader": {
     "cell_type": "code",
     "checksum": "66d577208680f82f36b5ee660a32ae51",
     "grade": false,
     "grade_id": "cell-2600ca4ae2649468",
     "locked": false,
     "schema_version": 3,
     "solution": true,
     "task": false
    }
   },
   "outputs": [
    {
     "data": {
      "text/plain": [
       "(True, {'F': True, 'E': False, 'D': True, 'C': True, 'B': False, 'A': False})"
      ]
     },
     "execution_count": 3,
     "metadata": {},
     "output_type": "execute_result"
    }
   ],
   "source": [
    "# KB of exercise 7.20 from Russell & Norvig:\n",
    "\n",
    "A = Literal('A')\n",
    "B = Literal('B')\n",
    "C = Literal('C')\n",
    "D = Literal('D')\n",
    "E = Literal('E')\n",
    "F = Literal('F')\n",
    "\n",
    "KB = [{-A, B, E},{-B, A},{-E, A},\n",
    "      {-E, D},\n",
    "      {-C, -F, -B},\n",
    "      {-E, B},\n",
    "      {-B, F},\n",
    "      {-B, C}]\n",
    "\n",
    "DPLL_Satisfiable(KB)"
   ]
  },
  {
   "cell_type": "markdown",
   "metadata": {
    "deletable": false,
    "editable": false,
    "nbgrader": {
     "cell_type": "markdown",
     "checksum": "29e6f829f45b9b687c258e6bc7bb6fb5",
     "grade": false,
     "grade_id": "cell-3e6849da5a8eba9a",
     "locked": true,
     "schema_version": 3,
     "solution": false,
     "task": false
    }
   },
   "source": [
    "<h1>Extensions</h1>\n",
    "\n",
    "1. Complete the degree heuristic function by filling in the placeholder in Q2.\n",
    "2. Complete the pure symbol and unit clause heuristics by filling in the placeholder in Q2.\n",
    "3. Modify the pure symbol heuristic to choose the pure symbol that occurs in the most number of clauses."
   ]
  },
  {
   "cell_type": "markdown",
   "metadata": {
    "deletable": false,
    "editable": false,
    "nbgrader": {
     "cell_type": "markdown",
     "checksum": "755ed998a518249d48e3e3518ec2ed63",
     "grade": false,
     "grade_id": "cell-f24016ad18be5ed3",
     "locked": true,
     "schema_version": 3,
     "solution": false,
     "task": false
    }
   },
   "source": [
    "<h1>Basic Functionality Tests</h1>\n",
    "\n",
    "All of the tests in this section must be passed for the code to be considered fully functional.  Other unseen test cases will be used after submission to further verify functionality"
   ]
  },
  {
   "cell_type": "code",
   "execution_count": 4,
   "metadata": {
    "deletable": false,
    "editable": false,
    "nbgrader": {
     "cell_type": "code",
     "checksum": "9c6c235a4e8ec0b2170d85eb02e0f29b",
     "grade": true,
     "grade_id": "cell-6af1cbc180046559",
     "locked": true,
     "points": 1,
     "schema_version": 3,
     "solution": false,
     "task": false
    }
   },
   "outputs": [],
   "source": [
    "# This section will test the correct definition of the literal class\n",
    "\n",
    "# Define some literals\n",
    "A = Literal('A')\n",
    "B = Literal('B')\n",
    "C = Literal('C')\n",
    "D = Literal('D')\n",
    "E = Literal('E')\n",
    "F = Literal('F')\n",
    "\n",
    "\n",
    "# Test the name attribute works correctly\n",
    "assert(A.name == 'A')\n",
    "\n",
    "# Test that negation works correctly\n",
    "assert(not (-C).sign)"
   ]
  },
  {
   "cell_type": "code",
   "execution_count": 5,
   "metadata": {
    "deletable": false,
    "editable": false,
    "nbgrader": {
     "cell_type": "code",
     "checksum": "44d90de96a5d63064d8158d5acac009c",
     "grade": true,
     "grade_id": "cell-76b5f4949b4918a0",
     "locked": true,
     "points": 2,
     "schema_version": 3,
     "solution": false,
     "task": false
    }
   },
   "outputs": [],
   "source": [
    "# This section will test that the KB has been correctly converted to CNF by performing \n",
    "# tests over all possible models\n",
    "import itertools\n",
    "symbols = {A,B,C,D,E,F}\n",
    "symbol_list = [A,B,C,D,E,F]\n",
    "\n",
    "def evaluate_russell_norvig_KB(model):\n",
    "    # Manually evaluate the KB using the model\n",
    "    s = list()\n",
    "    s.append(model[A] == (model[B] or model[E]))\n",
    "    s.append(model[E] <= model[D])\n",
    "    s.append((model[C] and model[F]) <= (not model[B]))\n",
    "    s.append(model[E] <= model[B])\n",
    "    s.append(model[B] <= model[F])\n",
    "    s.append(model[B] <= model[C])\n",
    "    return all(s)\n",
    "\n",
    "def evaluate_KB(KB, model):\n",
    "    model_true = True\n",
    "    for clause in KB:\n",
    "        evaluation = {l.sign == model[Literal(l.name)] for l in clause if Literal(l.name) in model}\n",
    "        model_true = model_true and any(evaluation)\n",
    "    return model_true\n",
    "\n",
    "all_models = list(itertools.product([False, True], repeat=6))\n",
    "for i in range(0, len(all_models)):\n",
    "    # Test all truth values\n",
    "    test_model = {symbol_list[j]: all_models[i][j] for j in range(0,6)}\n",
    "    \n",
    "    # Test the model\n",
    "    assert(evaluate_russell_norvig_KB(test_model) == evaluate_KB(KB, test_model))"
   ]
  },
  {
   "cell_type": "code",
   "execution_count": 6,
   "metadata": {},
   "outputs": [],
   "source": [
    "test_KB = [{A, C},{-A, C}, {-C}]\n",
    "t, model = DPLL_Satisfiable(test_KB)\n",
    "assert(not t)"
   ]
  },
  {
   "cell_type": "code",
   "execution_count": null,
   "metadata": {
    "deletable": false,
    "editable": false,
    "nbgrader": {
     "cell_type": "code",
     "checksum": "34d60e6b68ef766fbdd9b177a7dcfffa",
     "grade": true,
     "grade_id": "cell-5007c88f303571cb",
     "locked": true,
     "points": 4,
     "schema_version": 3,
     "solution": false,
     "task": false
    }
   },
   "outputs": [],
   "source": [
    "# This section will test the basic working of DPLL\n",
    "# Satisfiable model\n",
    "test_KB = [{A, C},{-A, C}, {B, -C}]\n",
    "t, model = DPLL_Satisfiable(test_KB)\n",
    "assert(evaluate_KB(test_KB, model))\n",
    "assert(t)\n",
    "\n",
    "# Unsatisfiable model\n",
    "test_KB = [{A, C},{-A, C}, {-C}]\n",
    "t, model = DPLL_Satisfiable(test_KB)\n",
    "assert(not t)"
   ]
  },
  {
   "cell_type": "code",
   "execution_count": 7,
   "metadata": {},
   "outputs": [],
   "source": [
    "test_KB = [{A, C},{-A, C}, {-C}]\n",
    "t, model = DPLL_Satisfiable(test_KB)\n",
    "assert(not t)"
   ]
  },
  {
   "cell_type": "code",
   "execution_count": null,
   "metadata": {
    "deletable": false,
    "editable": false,
    "nbgrader": {
     "cell_type": "code",
     "checksum": "8a1f07b0a41cf3041beb2bcc46356d19",
     "grade": true,
     "grade_id": "cell-63ce3735a6a8d49e",
     "locked": true,
     "points": 8,
     "schema_version": 3,
     "solution": false,
     "task": false
    }
   },
   "outputs": [],
   "source": [
    "# This will test DPLL on the KB from Russell & Norvig\n",
    "t, model = DPLL_Satisfiable(KB)\n",
    "\n",
    "# This model is satisfiable.  Test that it is so\n",
    "assert(t)\n",
    "\n",
    "# Check that the model found actually works\n",
    "assert(evaluate_KB(KB, model))   "
   ]
  },
  {
   "cell_type": "markdown",
   "metadata": {},
   "source": [
    "## Tweaking the output of the DPLL algorithm\n",
    "The basic tests #4 and #6 that contain the <code>evaluate_KB</code> function are sensetive to the output of the dictionary and require the format to be:\n",
    "\n",
    "<code>model={A:True, B:True, C: False}</code> \n",
    "\n",
    "However, the output of the DPLL algorithm puts the keys of the dictionary as a string of the form:\n",
    "\n",
    "<code>model={'A':True, 'B':True, 'C': False}</code> \n",
    "\n",
    "Therefore, I thought I could break down the test cell, and manually modify the model to delete the quotes. Below, the output of the DPLL to show that it passed the test after deleting the quotes of the dictionary keys."
   ]
  },
  {
   "cell_type": "code",
   "execution_count": 8,
   "metadata": {},
   "outputs": [
    {
     "data": {
      "text/plain": [
       "{'C': True, 'A': True, 'B': True}"
      ]
     },
     "execution_count": 8,
     "metadata": {},
     "output_type": "execute_result"
    }
   ],
   "source": [
    "# BASIC TEST IV:\n",
    "\n",
    "# This section will test the basic working of DPLL\n",
    "# Satisfiable model\n",
    "test_KB = [{A, C},{-A, C}, {B, -C}]\n",
    "t, model = DPLL_Satisfiable(test_KB)\n",
    "model"
   ]
  },
  {
   "cell_type": "code",
   "execution_count": 9,
   "metadata": {},
   "outputs": [],
   "source": [
    "model = {A: True, B: True, C: True}\n",
    "\n",
    "assert(evaluate_KB(test_KB, model))\n",
    "assert(t)\n",
    "\n",
    "# Unsatisfiable model\n",
    "test_KB = [{A, C},{-A, C}, {-C}]\n",
    "t, model = DPLL_Satisfiable(test_KB)\n",
    "assert(not t)"
   ]
  },
  {
   "cell_type": "code",
   "execution_count": 10,
   "metadata": {},
   "outputs": [
    {
     "name": "stdout",
     "output_type": "stream",
     "text": [
      "{'F': True, 'E': False, 'D': True, 'C': True, 'B': False, 'A': False}\n"
     ]
    }
   ],
   "source": [
    "# BASIC TEST VI:\n",
    "\n",
    "# This will test DPLL on the KB from Russell & Norvig\n",
    "t, model = DPLL_Satisfiable(KB)\n",
    "print(model)\n",
    "# This model is satisfiable.  Test that it is so\n",
    "assert(t)"
   ]
  },
  {
   "cell_type": "code",
   "execution_count": 11,
   "metadata": {},
   "outputs": [],
   "source": [
    "# Check that the model found actually works\n",
    "model = {B: False, C: True, F: True, D: True, A: False, E: False}\n",
    "\n",
    "assert(evaluate_KB(KB, model)) "
   ]
  },
  {
   "cell_type": "markdown",
   "metadata": {
    "deletable": false,
    "editable": false,
    "nbgrader": {
     "cell_type": "markdown",
     "checksum": "668dadca7a32947588d46f88578e7505",
     "grade": false,
     "grade_id": "cell-d4a09c27c6cafd14",
     "locked": true,
     "schema_version": 3,
     "solution": false,
     "task": false
    }
   },
   "source": [
    "<h1>Extension Tests</h1>\n",
    "\n",
    "This section will test that the degree heuristic, pure symbol and unit clause heuristics, picking the most frequently used symbol."
   ]
  },
  {
   "cell_type": "code",
   "execution_count": null,
   "metadata": {
    "deletable": false,
    "editable": false,
    "nbgrader": {
     "cell_type": "code",
     "checksum": "7ea2d60058856b294bf2f971f1639f6b",
     "grade": true,
     "grade_id": "cell-782f68d63b7be51f",
     "locked": true,
     "points": 16,
     "schema_version": 3,
     "solution": false,
     "task": false
    }
   },
   "outputs": [],
   "source": [
    "# Degree Heuristic Test\n",
    "S = degree_heuristic(KB, symbols, dict())\n",
    "assert(S.name == 'B')"
   ]
  },
  {
   "cell_type": "code",
   "execution_count": null,
   "metadata": {
    "deletable": false,
    "editable": false,
    "nbgrader": {
     "cell_type": "code",
     "checksum": "081e3d80ca38204f5ec4cd11ffcc619d",
     "grade": true,
     "grade_id": "cell-1849b5bca210fac7",
     "locked": true,
     "points": 32,
     "schema_version": 3,
     "solution": false,
     "task": false
    }
   },
   "outputs": [],
   "source": [
    "# Pure Symbol Test\n",
    "P = find_pure_symbol([{A,B,C},{A,-D},{A,D}], {A,B,C,D}, dict())\n",
    "assert(P.name == 'A')"
   ]
  },
  {
   "cell_type": "code",
   "execution_count": null,
   "metadata": {
    "deletable": false,
    "editable": false,
    "nbgrader": {
     "cell_type": "code",
     "checksum": "532f38f93688533feeacfea67121b12e",
     "grade": true,
     "grade_id": "cell-860570cb7e08a33a",
     "locked": true,
     "points": 64,
     "schema_version": 3,
     "solution": false,
     "task": false
    }
   },
   "outputs": [],
   "source": [
    "# Unit Clause Test\n",
    "U = find_unit_clause([{A,B,C},{-C},{A, D}], {A,B,C,D}, dict())\n",
    "assert(U.name == 'C')"
   ]
  },
  {
   "cell_type": "markdown",
   "metadata": {},
   "source": [
    "## Appendix\n",
    "- <code>#deduction:</code> The DPLL algorithm tests the satisfiability of a knowledge base using the method of proof by contradiction. In other words, the DPLL associate a truth value for each literal to test which combination satisfies the model, so finding one case is enough to output that KB is satisfiable. Deduction is an essential method in DPLL since we rely on the rules stated in the KB to determine whether the model can, for a given combination, be True."
   ]
  },
  {
   "cell_type": "markdown",
   "metadata": {},
   "source": [
    "## References\n",
    "- Afshine A., Shervine A. (2019). Logic-based models with propositional and first-order logic. Stanford University. retrieved from: https://stanford.edu/~shervine/teaching/cs-221/cheatsheet-logic-models\n",
    "- Russell, S. J., Norvig, P., & Davis, E. (2010). Artificial intelligence: a modern approach. 3rd ed. Upper Saddle River, NJ: Prentice Hall. retrieved from: http://aima.cs.berkeley.edu/\n",
    "- Wheeler Ruml (2013). Propositional atisfiability DPLL. UNH CS 730 YouTube Channel. Retrieved from: https://www.youtube.com/watch?v=ENHKXZg-a4c"
   ]
  }
 ],
 "metadata": {
  "kernelspec": {
   "display_name": "Python 3",
   "language": "python",
   "name": "python3"
  },
  "language_info": {
   "codemirror_mode": {
    "name": "ipython",
    "version": 3
   },
   "file_extension": ".py",
   "mimetype": "text/x-python",
   "name": "python",
   "nbconvert_exporter": "python",
   "pygments_lexer": "ipython3",
   "version": "3.7.1"
  }
 },
 "nbformat": 4,
 "nbformat_minor": 2
}
